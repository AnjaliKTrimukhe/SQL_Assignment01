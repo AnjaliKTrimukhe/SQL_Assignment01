{
 "cells": [
  {
   "cell_type": "raw",
   "id": "d8e045d3",
   "metadata": {},
   "source": [
    "Q-1. Write an SQL query to fetch “FIRST_NAME” from Worker table using the alias\n",
    "name as <WORKER_NAME>.\n",
    "Ans:"
   ]
  },
  {
   "cell_type": "code",
   "execution_count": null,
   "id": "49a14aee",
   "metadata": {},
   "outputs": [],
   "source": [
    "SELECT FIRST_NAME as WORKER_NAME\n",
    "FROM Worker;"
   ]
  },
  {
   "cell_type": "raw",
   "id": "0c745536",
   "metadata": {},
   "source": [
    "Q-2. Write an SQL query to fetch unique values of DEPARTMENT from Worker table.\n",
    "Ans:"
   ]
  },
  {
   "cell_type": "code",
   "execution_count": null,
   "id": "c74dcff3",
   "metadata": {},
   "outputs": [],
   "source": [
    "SELECT DISTINCT DEPARTMENT \n",
    "FROM Worker;"
   ]
  },
  {
   "cell_type": "raw",
   "id": "3f976215",
   "metadata": {},
   "source": [
    "Q-3. Write an SQL query to show the last 5 record from a table.\n",
    "Ans:"
   ]
  },
  {
   "cell_type": "code",
   "execution_count": null,
   "id": "a36075cb",
   "metadata": {},
   "outputs": [],
   "source": [
    "SELECT *\n",
    "FROM (select * from suppliers ORDER BY supplier_id DESC) suppliers2\n",
    "WHERE rownum <= 5\n",
    "ORDER BY rownum DESC;"
   ]
  }
 ],
 "metadata": {
  "kernelspec": {
   "display_name": "Python 3 (ipykernel)",
   "language": "python",
   "name": "python3"
  },
  "language_info": {
   "codemirror_mode": {
    "name": "ipython",
    "version": 3
   },
   "file_extension": ".py",
   "mimetype": "text/x-python",
   "name": "python",
   "nbconvert_exporter": "python",
   "pygments_lexer": "ipython3",
   "version": "3.9.7"
  }
 },
 "nbformat": 4,
 "nbformat_minor": 5
}
